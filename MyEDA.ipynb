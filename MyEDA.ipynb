{
  "nbformat": 4,
  "nbformat_minor": 0,
  "metadata": {
    "colab": {
      "provenance": []
    },
    "kernelspec": {
      "name": "python3",
      "display_name": "Python 3"
    },
    "language_info": {
      "name": "python"
    }
  },
  "cells": [
    {
      "cell_type": "markdown",
      "source": [
        "#Exploratory Data Analysis"
      ],
      "metadata": {
        "id": "erHo1AaGQfQk"
      }
    },
    {
      "cell_type": "markdown",
      "source": [
        "##Step 1: Prepare"
      ],
      "metadata": {
        "id": "IbHUe0t_QwDn"
      }
    },
    {
      "cell_type": "code",
      "source": [
        "pip install pandas\n"
      ],
      "metadata": {
        "colab": {
          "base_uri": "https://localhost:8080/"
        },
        "id": "EC3-xAUnSw7O",
        "outputId": "2c6be6fc-a93b-4ba9-b3d5-a9818300a71d"
      },
      "execution_count": 1,
      "outputs": [
        {
          "output_type": "stream",
          "name": "stdout",
          "text": [
            "Looking in indexes: https://pypi.org/simple, https://us-python.pkg.dev/colab-wheels/public/simple/\n",
            "Requirement already satisfied: pandas in /usr/local/lib/python3.9/dist-packages (1.4.4)\n",
            "Requirement already satisfied: python-dateutil>=2.8.1 in /usr/local/lib/python3.9/dist-packages (from pandas) (2.8.2)\n",
            "Requirement already satisfied: numpy>=1.18.5 in /usr/local/lib/python3.9/dist-packages (from pandas) (1.22.4)\n",
            "Requirement already satisfied: pytz>=2020.1 in /usr/local/lib/python3.9/dist-packages (from pandas) (2022.7.1)\n",
            "Requirement already satisfied: six>=1.5 in /usr/local/lib/python3.9/dist-packages (from python-dateutil>=2.8.1->pandas) (1.16.0)\n"
          ]
        }
      ]
    },
    {
      "cell_type": "code",
      "execution_count": 2,
      "metadata": {
        "id": "ziyVkA7_Wi5Z"
      },
      "outputs": [],
      "source": [
        "import pandas as pd"
      ]
    },
    {
      "cell_type": "markdown",
      "source": [
        "##Data Loading"
      ],
      "metadata": {
        "id": "UZQWvyGlTd22"
      }
    },
    {
      "cell_type": "code",
      "source": [
        "df=pd.read_csv('/content/sample_sales_data.csv')"
      ],
      "metadata": {
        "id": "OQzkF6Q9P21g"
      },
      "execution_count": 3,
      "outputs": []
    },
    {
      "cell_type": "code",
      "source": [
        "df.head()"
      ],
      "metadata": {
        "colab": {
          "base_uri": "https://localhost:8080/",
          "height": 206
        },
        "id": "wvVMADOyUGyU",
        "outputId": "38d1bcd1-ece6-43e1-d565-89d4a613bf77"
      },
      "execution_count": 4,
      "outputs": [
        {
          "output_type": "execute_result",
          "data": {
            "text/plain": [
              "   Unnamed: 0                        transaction_id            timestamp  \\\n",
              "0           0  a1c82654-c52c-45b3-8ce8-4c2a1efe63ed  2022-03-02 09:51:38   \n",
              "1           1  931ad550-09e8-4da6-beaa-8c9d17be9c60  2022-03-06 10:33:59   \n",
              "2           2  ae133534-6f61-4cd6-b6b8-d1c1d8d90aea  2022-03-04 17:20:21   \n",
              "3           3  157cebd9-aaf0-475d-8a11-7c8e0f5b76e4  2022-03-02 17:23:58   \n",
              "4           4  a81a6cd3-5e0c-44a2-826c-aea43e46c514  2022-03-05 14:32:43   \n",
              "\n",
              "                             product_id category customer_type  unit_price  \\\n",
              "0  3bc6c1ea-0198-46de-9ffd-514ae3338713    fruit          gold        3.99   \n",
              "1  ad81b46c-bf38-41cf-9b54-5fe7f5eba93e    fruit      standard        3.99   \n",
              "2  7c55cbd4-f306-4c04-a030-628cbe7867c1    fruit       premium        0.19   \n",
              "3  80da8348-1707-403f-8be7-9e6deeccc883    fruit          gold        0.19   \n",
              "4  7f5e86e6-f06f-45f6-bf44-27b095c9ad1d    fruit         basic        4.49   \n",
              "\n",
              "   quantity  total payment_type  \n",
              "0         2   7.98     e-wallet  \n",
              "1         1   3.99     e-wallet  \n",
              "2         2   0.38     e-wallet  \n",
              "3         4   0.76     e-wallet  \n",
              "4         2   8.98   debit card  "
            ],
            "text/html": [
              "\n",
              "  <div id=\"df-210c22b4-51f3-4689-b39d-22b226dc7680\">\n",
              "    <div class=\"colab-df-container\">\n",
              "      <div>\n",
              "<style scoped>\n",
              "    .dataframe tbody tr th:only-of-type {\n",
              "        vertical-align: middle;\n",
              "    }\n",
              "\n",
              "    .dataframe tbody tr th {\n",
              "        vertical-align: top;\n",
              "    }\n",
              "\n",
              "    .dataframe thead th {\n",
              "        text-align: right;\n",
              "    }\n",
              "</style>\n",
              "<table border=\"1\" class=\"dataframe\">\n",
              "  <thead>\n",
              "    <tr style=\"text-align: right;\">\n",
              "      <th></th>\n",
              "      <th>Unnamed: 0</th>\n",
              "      <th>transaction_id</th>\n",
              "      <th>timestamp</th>\n",
              "      <th>product_id</th>\n",
              "      <th>category</th>\n",
              "      <th>customer_type</th>\n",
              "      <th>unit_price</th>\n",
              "      <th>quantity</th>\n",
              "      <th>total</th>\n",
              "      <th>payment_type</th>\n",
              "    </tr>\n",
              "  </thead>\n",
              "  <tbody>\n",
              "    <tr>\n",
              "      <th>0</th>\n",
              "      <td>0</td>\n",
              "      <td>a1c82654-c52c-45b3-8ce8-4c2a1efe63ed</td>\n",
              "      <td>2022-03-02 09:51:38</td>\n",
              "      <td>3bc6c1ea-0198-46de-9ffd-514ae3338713</td>\n",
              "      <td>fruit</td>\n",
              "      <td>gold</td>\n",
              "      <td>3.99</td>\n",
              "      <td>2</td>\n",
              "      <td>7.98</td>\n",
              "      <td>e-wallet</td>\n",
              "    </tr>\n",
              "    <tr>\n",
              "      <th>1</th>\n",
              "      <td>1</td>\n",
              "      <td>931ad550-09e8-4da6-beaa-8c9d17be9c60</td>\n",
              "      <td>2022-03-06 10:33:59</td>\n",
              "      <td>ad81b46c-bf38-41cf-9b54-5fe7f5eba93e</td>\n",
              "      <td>fruit</td>\n",
              "      <td>standard</td>\n",
              "      <td>3.99</td>\n",
              "      <td>1</td>\n",
              "      <td>3.99</td>\n",
              "      <td>e-wallet</td>\n",
              "    </tr>\n",
              "    <tr>\n",
              "      <th>2</th>\n",
              "      <td>2</td>\n",
              "      <td>ae133534-6f61-4cd6-b6b8-d1c1d8d90aea</td>\n",
              "      <td>2022-03-04 17:20:21</td>\n",
              "      <td>7c55cbd4-f306-4c04-a030-628cbe7867c1</td>\n",
              "      <td>fruit</td>\n",
              "      <td>premium</td>\n",
              "      <td>0.19</td>\n",
              "      <td>2</td>\n",
              "      <td>0.38</td>\n",
              "      <td>e-wallet</td>\n",
              "    </tr>\n",
              "    <tr>\n",
              "      <th>3</th>\n",
              "      <td>3</td>\n",
              "      <td>157cebd9-aaf0-475d-8a11-7c8e0f5b76e4</td>\n",
              "      <td>2022-03-02 17:23:58</td>\n",
              "      <td>80da8348-1707-403f-8be7-9e6deeccc883</td>\n",
              "      <td>fruit</td>\n",
              "      <td>gold</td>\n",
              "      <td>0.19</td>\n",
              "      <td>4</td>\n",
              "      <td>0.76</td>\n",
              "      <td>e-wallet</td>\n",
              "    </tr>\n",
              "    <tr>\n",
              "      <th>4</th>\n",
              "      <td>4</td>\n",
              "      <td>a81a6cd3-5e0c-44a2-826c-aea43e46c514</td>\n",
              "      <td>2022-03-05 14:32:43</td>\n",
              "      <td>7f5e86e6-f06f-45f6-bf44-27b095c9ad1d</td>\n",
              "      <td>fruit</td>\n",
              "      <td>basic</td>\n",
              "      <td>4.49</td>\n",
              "      <td>2</td>\n",
              "      <td>8.98</td>\n",
              "      <td>debit card</td>\n",
              "    </tr>\n",
              "  </tbody>\n",
              "</table>\n",
              "</div>\n",
              "      <button class=\"colab-df-convert\" onclick=\"convertToInteractive('df-210c22b4-51f3-4689-b39d-22b226dc7680')\"\n",
              "              title=\"Convert this dataframe to an interactive table.\"\n",
              "              style=\"display:none;\">\n",
              "        \n",
              "  <svg xmlns=\"http://www.w3.org/2000/svg\" height=\"24px\"viewBox=\"0 0 24 24\"\n",
              "       width=\"24px\">\n",
              "    <path d=\"M0 0h24v24H0V0z\" fill=\"none\"/>\n",
              "    <path d=\"M18.56 5.44l.94 2.06.94-2.06 2.06-.94-2.06-.94-.94-2.06-.94 2.06-2.06.94zm-11 1L8.5 8.5l.94-2.06 2.06-.94-2.06-.94L8.5 2.5l-.94 2.06-2.06.94zm10 10l.94 2.06.94-2.06 2.06-.94-2.06-.94-.94-2.06-.94 2.06-2.06.94z\"/><path d=\"M17.41 7.96l-1.37-1.37c-.4-.4-.92-.59-1.43-.59-.52 0-1.04.2-1.43.59L10.3 9.45l-7.72 7.72c-.78.78-.78 2.05 0 2.83L4 21.41c.39.39.9.59 1.41.59.51 0 1.02-.2 1.41-.59l7.78-7.78 2.81-2.81c.8-.78.8-2.07 0-2.86zM5.41 20L4 18.59l7.72-7.72 1.47 1.35L5.41 20z\"/>\n",
              "  </svg>\n",
              "      </button>\n",
              "      \n",
              "  <style>\n",
              "    .colab-df-container {\n",
              "      display:flex;\n",
              "      flex-wrap:wrap;\n",
              "      gap: 12px;\n",
              "    }\n",
              "\n",
              "    .colab-df-convert {\n",
              "      background-color: #E8F0FE;\n",
              "      border: none;\n",
              "      border-radius: 50%;\n",
              "      cursor: pointer;\n",
              "      display: none;\n",
              "      fill: #1967D2;\n",
              "      height: 32px;\n",
              "      padding: 0 0 0 0;\n",
              "      width: 32px;\n",
              "    }\n",
              "\n",
              "    .colab-df-convert:hover {\n",
              "      background-color: #E2EBFA;\n",
              "      box-shadow: 0px 1px 2px rgba(60, 64, 67, 0.3), 0px 1px 3px 1px rgba(60, 64, 67, 0.15);\n",
              "      fill: #174EA6;\n",
              "    }\n",
              "\n",
              "    [theme=dark] .colab-df-convert {\n",
              "      background-color: #3B4455;\n",
              "      fill: #D2E3FC;\n",
              "    }\n",
              "\n",
              "    [theme=dark] .colab-df-convert:hover {\n",
              "      background-color: #434B5C;\n",
              "      box-shadow: 0px 1px 3px 1px rgba(0, 0, 0, 0.15);\n",
              "      filter: drop-shadow(0px 1px 2px rgba(0, 0, 0, 0.3));\n",
              "      fill: #FFFFFF;\n",
              "    }\n",
              "  </style>\n",
              "\n",
              "      <script>\n",
              "        const buttonEl =\n",
              "          document.querySelector('#df-210c22b4-51f3-4689-b39d-22b226dc7680 button.colab-df-convert');\n",
              "        buttonEl.style.display =\n",
              "          google.colab.kernel.accessAllowed ? 'block' : 'none';\n",
              "\n",
              "        async function convertToInteractive(key) {\n",
              "          const element = document.querySelector('#df-210c22b4-51f3-4689-b39d-22b226dc7680');\n",
              "          const dataTable =\n",
              "            await google.colab.kernel.invokeFunction('convertToInteractive',\n",
              "                                                     [key], {});\n",
              "          if (!dataTable) return;\n",
              "\n",
              "          const docLinkHtml = 'Like what you see? Visit the ' +\n",
              "            '<a target=\"_blank\" href=https://colab.research.google.com/notebooks/data_table.ipynb>data table notebook</a>'\n",
              "            + ' to learn more about interactive tables.';\n",
              "          element.innerHTML = '';\n",
              "          dataTable['output_type'] = 'display_data';\n",
              "          await google.colab.output.renderOutput(dataTable, element);\n",
              "          const docLink = document.createElement('div');\n",
              "          docLink.innerHTML = docLinkHtml;\n",
              "          element.appendChild(docLink);\n",
              "        }\n",
              "      </script>\n",
              "    </div>\n",
              "  </div>\n",
              "  "
            ]
          },
          "metadata": {},
          "execution_count": 4
        }
      ]
    },
    {
      "cell_type": "code",
      "source": [
        "df.drop(columns=['Unnamed: 0'], inplace=True, errors='ignore')"
      ],
      "metadata": {
        "id": "rFZfr8NeUU0o"
      },
      "execution_count": 5,
      "outputs": []
    },
    {
      "cell_type": "code",
      "source": [
        "df.tail()"
      ],
      "metadata": {
        "colab": {
          "base_uri": "https://localhost:8080/",
          "height": 206
        },
        "id": "Wzh3aYrtU3nj",
        "outputId": "1fe96b45-e529-4b42-af50-16ac04fd57e3"
      },
      "execution_count": 6,
      "outputs": [
        {
          "output_type": "execute_result",
          "data": {
            "text/plain": [
              "                            transaction_id            timestamp  \\\n",
              "7824  6c19b9fc-f86d-4526-9dfe-d8027a4d13ee  2022-03-03 18:22:09   \n",
              "7825  1c69824b-e399-4b79-a5e7-04a3a7db0681  2022-03-04 19:14:46   \n",
              "7826  79aee7d6-1405-4345-9a15-92541e9e1e74  2022-03-03 14:00:09   \n",
              "7827  e5cc4f88-e5b7-4ad5-bc1b-12a828a14f55  2022-03-04 15:11:38   \n",
              "7828  afd70b4f-ee21-402d-8d8f-0d9e13c2bea6  2022-03-06 13:50:36   \n",
              "\n",
              "                                product_id           category customer_type  \\\n",
              "7824  bc6187a9-d508-482b-9ca6-590d1cc7524f  cleaning products         basic   \n",
              "7825  707e4237-191c-4cc9-85af-383a6c1cb2ab  cleaning products      standard   \n",
              "7826  a9325c1a-2715-41df-b7f4-3078fa5ecd97  cleaning products         basic   \n",
              "7827  707e4237-191c-4cc9-85af-383a6c1cb2ab  cleaning products         basic   \n",
              "7828  d6ccd088-11be-4c25-aa1f-ea87c01a04db  cleaning products    non-member   \n",
              "\n",
              "      unit_price  quantity  total payment_type  \n",
              "7824       14.19         2  28.38     e-wallet  \n",
              "7825       16.99         1  16.99  credit card  \n",
              "7826       14.19         2  28.38  credit card  \n",
              "7827       16.99         4  67.96         cash  \n",
              "7828       14.99         4  59.96   debit card  "
            ],
            "text/html": [
              "\n",
              "  <div id=\"df-f9a1e4d2-0afd-4d98-a590-06697bd31737\">\n",
              "    <div class=\"colab-df-container\">\n",
              "      <div>\n",
              "<style scoped>\n",
              "    .dataframe tbody tr th:only-of-type {\n",
              "        vertical-align: middle;\n",
              "    }\n",
              "\n",
              "    .dataframe tbody tr th {\n",
              "        vertical-align: top;\n",
              "    }\n",
              "\n",
              "    .dataframe thead th {\n",
              "        text-align: right;\n",
              "    }\n",
              "</style>\n",
              "<table border=\"1\" class=\"dataframe\">\n",
              "  <thead>\n",
              "    <tr style=\"text-align: right;\">\n",
              "      <th></th>\n",
              "      <th>transaction_id</th>\n",
              "      <th>timestamp</th>\n",
              "      <th>product_id</th>\n",
              "      <th>category</th>\n",
              "      <th>customer_type</th>\n",
              "      <th>unit_price</th>\n",
              "      <th>quantity</th>\n",
              "      <th>total</th>\n",
              "      <th>payment_type</th>\n",
              "    </tr>\n",
              "  </thead>\n",
              "  <tbody>\n",
              "    <tr>\n",
              "      <th>7824</th>\n",
              "      <td>6c19b9fc-f86d-4526-9dfe-d8027a4d13ee</td>\n",
              "      <td>2022-03-03 18:22:09</td>\n",
              "      <td>bc6187a9-d508-482b-9ca6-590d1cc7524f</td>\n",
              "      <td>cleaning products</td>\n",
              "      <td>basic</td>\n",
              "      <td>14.19</td>\n",
              "      <td>2</td>\n",
              "      <td>28.38</td>\n",
              "      <td>e-wallet</td>\n",
              "    </tr>\n",
              "    <tr>\n",
              "      <th>7825</th>\n",
              "      <td>1c69824b-e399-4b79-a5e7-04a3a7db0681</td>\n",
              "      <td>2022-03-04 19:14:46</td>\n",
              "      <td>707e4237-191c-4cc9-85af-383a6c1cb2ab</td>\n",
              "      <td>cleaning products</td>\n",
              "      <td>standard</td>\n",
              "      <td>16.99</td>\n",
              "      <td>1</td>\n",
              "      <td>16.99</td>\n",
              "      <td>credit card</td>\n",
              "    </tr>\n",
              "    <tr>\n",
              "      <th>7826</th>\n",
              "      <td>79aee7d6-1405-4345-9a15-92541e9e1e74</td>\n",
              "      <td>2022-03-03 14:00:09</td>\n",
              "      <td>a9325c1a-2715-41df-b7f4-3078fa5ecd97</td>\n",
              "      <td>cleaning products</td>\n",
              "      <td>basic</td>\n",
              "      <td>14.19</td>\n",
              "      <td>2</td>\n",
              "      <td>28.38</td>\n",
              "      <td>credit card</td>\n",
              "    </tr>\n",
              "    <tr>\n",
              "      <th>7827</th>\n",
              "      <td>e5cc4f88-e5b7-4ad5-bc1b-12a828a14f55</td>\n",
              "      <td>2022-03-04 15:11:38</td>\n",
              "      <td>707e4237-191c-4cc9-85af-383a6c1cb2ab</td>\n",
              "      <td>cleaning products</td>\n",
              "      <td>basic</td>\n",
              "      <td>16.99</td>\n",
              "      <td>4</td>\n",
              "      <td>67.96</td>\n",
              "      <td>cash</td>\n",
              "    </tr>\n",
              "    <tr>\n",
              "      <th>7828</th>\n",
              "      <td>afd70b4f-ee21-402d-8d8f-0d9e13c2bea6</td>\n",
              "      <td>2022-03-06 13:50:36</td>\n",
              "      <td>d6ccd088-11be-4c25-aa1f-ea87c01a04db</td>\n",
              "      <td>cleaning products</td>\n",
              "      <td>non-member</td>\n",
              "      <td>14.99</td>\n",
              "      <td>4</td>\n",
              "      <td>59.96</td>\n",
              "      <td>debit card</td>\n",
              "    </tr>\n",
              "  </tbody>\n",
              "</table>\n",
              "</div>\n",
              "      <button class=\"colab-df-convert\" onclick=\"convertToInteractive('df-f9a1e4d2-0afd-4d98-a590-06697bd31737')\"\n",
              "              title=\"Convert this dataframe to an interactive table.\"\n",
              "              style=\"display:none;\">\n",
              "        \n",
              "  <svg xmlns=\"http://www.w3.org/2000/svg\" height=\"24px\"viewBox=\"0 0 24 24\"\n",
              "       width=\"24px\">\n",
              "    <path d=\"M0 0h24v24H0V0z\" fill=\"none\"/>\n",
              "    <path d=\"M18.56 5.44l.94 2.06.94-2.06 2.06-.94-2.06-.94-.94-2.06-.94 2.06-2.06.94zm-11 1L8.5 8.5l.94-2.06 2.06-.94-2.06-.94L8.5 2.5l-.94 2.06-2.06.94zm10 10l.94 2.06.94-2.06 2.06-.94-2.06-.94-.94-2.06-.94 2.06-2.06.94z\"/><path d=\"M17.41 7.96l-1.37-1.37c-.4-.4-.92-.59-1.43-.59-.52 0-1.04.2-1.43.59L10.3 9.45l-7.72 7.72c-.78.78-.78 2.05 0 2.83L4 21.41c.39.39.9.59 1.41.59.51 0 1.02-.2 1.41-.59l7.78-7.78 2.81-2.81c.8-.78.8-2.07 0-2.86zM5.41 20L4 18.59l7.72-7.72 1.47 1.35L5.41 20z\"/>\n",
              "  </svg>\n",
              "      </button>\n",
              "      \n",
              "  <style>\n",
              "    .colab-df-container {\n",
              "      display:flex;\n",
              "      flex-wrap:wrap;\n",
              "      gap: 12px;\n",
              "    }\n",
              "\n",
              "    .colab-df-convert {\n",
              "      background-color: #E8F0FE;\n",
              "      border: none;\n",
              "      border-radius: 50%;\n",
              "      cursor: pointer;\n",
              "      display: none;\n",
              "      fill: #1967D2;\n",
              "      height: 32px;\n",
              "      padding: 0 0 0 0;\n",
              "      width: 32px;\n",
              "    }\n",
              "\n",
              "    .colab-df-convert:hover {\n",
              "      background-color: #E2EBFA;\n",
              "      box-shadow: 0px 1px 2px rgba(60, 64, 67, 0.3), 0px 1px 3px 1px rgba(60, 64, 67, 0.15);\n",
              "      fill: #174EA6;\n",
              "    }\n",
              "\n",
              "    [theme=dark] .colab-df-convert {\n",
              "      background-color: #3B4455;\n",
              "      fill: #D2E3FC;\n",
              "    }\n",
              "\n",
              "    [theme=dark] .colab-df-convert:hover {\n",
              "      background-color: #434B5C;\n",
              "      box-shadow: 0px 1px 3px 1px rgba(0, 0, 0, 0.15);\n",
              "      filter: drop-shadow(0px 1px 2px rgba(0, 0, 0, 0.3));\n",
              "      fill: #FFFFFF;\n",
              "    }\n",
              "  </style>\n",
              "\n",
              "      <script>\n",
              "        const buttonEl =\n",
              "          document.querySelector('#df-f9a1e4d2-0afd-4d98-a590-06697bd31737 button.colab-df-convert');\n",
              "        buttonEl.style.display =\n",
              "          google.colab.kernel.accessAllowed ? 'block' : 'none';\n",
              "\n",
              "        async function convertToInteractive(key) {\n",
              "          const element = document.querySelector('#df-f9a1e4d2-0afd-4d98-a590-06697bd31737');\n",
              "          const dataTable =\n",
              "            await google.colab.kernel.invokeFunction('convertToInteractive',\n",
              "                                                     [key], {});\n",
              "          if (!dataTable) return;\n",
              "\n",
              "          const docLinkHtml = 'Like what you see? Visit the ' +\n",
              "            '<a target=\"_blank\" href=https://colab.research.google.com/notebooks/data_table.ipynb>data table notebook</a>'\n",
              "            + ' to learn more about interactive tables.';\n",
              "          element.innerHTML = '';\n",
              "          dataTable['output_type'] = 'display_data';\n",
              "          await google.colab.output.renderOutput(dataTable, element);\n",
              "          const docLink = document.createElement('div');\n",
              "          docLink.innerHTML = docLinkHtml;\n",
              "          element.appendChild(docLink);\n",
              "        }\n",
              "      </script>\n",
              "    </div>\n",
              "  </div>\n",
              "  "
            ]
          },
          "metadata": {},
          "execution_count": 6
        }
      ]
    },
    {
      "cell_type": "markdown",
      "source": [
        "##Step 2: Exploration"
      ],
      "metadata": {
        "id": "40Y9z-gAVEWL"
      }
    },
    {
      "cell_type": "markdown",
      "source": [
        "##Descriptive Statistics"
      ],
      "metadata": {
        "id": "5KYkSAIMVcyK"
      }
    },
    {
      "cell_type": "code",
      "source": [
        "df.info()"
      ],
      "metadata": {
        "colab": {
          "base_uri": "https://localhost:8080/"
        },
        "id": "GbhOzt5yQCth",
        "outputId": "f01370d8-63b6-4907-f5f8-2df05282903b"
      },
      "execution_count": 7,
      "outputs": [
        {
          "output_type": "stream",
          "name": "stdout",
          "text": [
            "<class 'pandas.core.frame.DataFrame'>\n",
            "RangeIndex: 7829 entries, 0 to 7828\n",
            "Data columns (total 9 columns):\n",
            " #   Column          Non-Null Count  Dtype  \n",
            "---  ------          --------------  -----  \n",
            " 0   transaction_id  7829 non-null   object \n",
            " 1   timestamp       7829 non-null   object \n",
            " 2   product_id      7829 non-null   object \n",
            " 3   category        7829 non-null   object \n",
            " 4   customer_type   7829 non-null   object \n",
            " 5   unit_price      7829 non-null   float64\n",
            " 6   quantity        7829 non-null   int64  \n",
            " 7   total           7829 non-null   float64\n",
            " 8   payment_type    7829 non-null   object \n",
            "dtypes: float64(2), int64(1), object(6)\n",
            "memory usage: 550.6+ KB\n"
          ]
        }
      ]
    },
    {
      "cell_type": "markdown",
      "source": [
        "The `.info()` method creates a data description of the dataframe. It tells us:\n",
        "\n",
        "- How many rows (7829)\n",
        "- How many columns (9)\n",
        "- Column names\n",
        "- How many values are non-null for each column\n",
        "- The types of data contained within each column\n",
        "- The size of the dataset loaded into memory (~550KB)\n",
        "\n",
        "Looking at the output of the `.info()` method, we can intepret each column as follows:\n",
        "\n",
        "- transaction_id = this is a unique ID that is assigned to each transaction\n",
        "- timestamp = this is the datetime at which the transaction was made\n",
        "- product_id = this is an ID that is assigned to the product that was sold. Each product has a unique ID\n",
        "- category = this is the category that the product is contained within\n",
        "- customer_type = this is the type of customer that made the transaction\n",
        "- unit_price = the price that 1 unit of this item sells for\n",
        "- quantity = the number of units sold for this product within this transaction\n",
        "- total = the total amount payable by the customer\n",
        "- payment_type = the payment method used by the customer\n",
        "\n",
        "It is also interesting to look at the datatypes. We can see that there are 3 different datatypes within this dataset:\n",
        "\n",
        "- object = this column contains categorical values\n",
        "- float64 = this column contains floating point numerical values (i.e. decimal numbers)\n",
        "- int64 = this column contains integer values (whole numbers)\n",
        "\n",
        "Now let's compute some descriptive statistics of the numeric columns:"
      ],
      "metadata": {
        "id": "cjMuz8cAHvBf"
      }
    },
    {
      "cell_type": "code",
      "source": [
        "df.describe()"
      ],
      "metadata": {
        "colab": {
          "base_uri": "https://localhost:8080/",
          "height": 300
        },
        "id": "oa-jD4g9ceu-",
        "outputId": "69622b9d-557b-4137-d190-2dccad163fdd"
      },
      "execution_count": 8,
      "outputs": [
        {
          "output_type": "execute_result",
          "data": {
            "text/plain": [
              "        unit_price     quantity        total\n",
              "count  7829.000000  7829.000000  7829.000000\n",
              "mean      7.819480     2.501597    19.709905\n",
              "std       5.388088     1.122722    17.446680\n",
              "min       0.190000     1.000000     0.190000\n",
              "25%       3.990000     1.000000     6.570000\n",
              "50%       7.190000     3.000000    14.970000\n",
              "75%      11.190000     4.000000    28.470000\n",
              "max      23.990000     4.000000    95.960000"
            ],
            "text/html": [
              "\n",
              "  <div id=\"df-8328947c-1ea7-41d1-ad74-4d6ee30624c7\">\n",
              "    <div class=\"colab-df-container\">\n",
              "      <div>\n",
              "<style scoped>\n",
              "    .dataframe tbody tr th:only-of-type {\n",
              "        vertical-align: middle;\n",
              "    }\n",
              "\n",
              "    .dataframe tbody tr th {\n",
              "        vertical-align: top;\n",
              "    }\n",
              "\n",
              "    .dataframe thead th {\n",
              "        text-align: right;\n",
              "    }\n",
              "</style>\n",
              "<table border=\"1\" class=\"dataframe\">\n",
              "  <thead>\n",
              "    <tr style=\"text-align: right;\">\n",
              "      <th></th>\n",
              "      <th>unit_price</th>\n",
              "      <th>quantity</th>\n",
              "      <th>total</th>\n",
              "    </tr>\n",
              "  </thead>\n",
              "  <tbody>\n",
              "    <tr>\n",
              "      <th>count</th>\n",
              "      <td>7829.000000</td>\n",
              "      <td>7829.000000</td>\n",
              "      <td>7829.000000</td>\n",
              "    </tr>\n",
              "    <tr>\n",
              "      <th>mean</th>\n",
              "      <td>7.819480</td>\n",
              "      <td>2.501597</td>\n",
              "      <td>19.709905</td>\n",
              "    </tr>\n",
              "    <tr>\n",
              "      <th>std</th>\n",
              "      <td>5.388088</td>\n",
              "      <td>1.122722</td>\n",
              "      <td>17.446680</td>\n",
              "    </tr>\n",
              "    <tr>\n",
              "      <th>min</th>\n",
              "      <td>0.190000</td>\n",
              "      <td>1.000000</td>\n",
              "      <td>0.190000</td>\n",
              "    </tr>\n",
              "    <tr>\n",
              "      <th>25%</th>\n",
              "      <td>3.990000</td>\n",
              "      <td>1.000000</td>\n",
              "      <td>6.570000</td>\n",
              "    </tr>\n",
              "    <tr>\n",
              "      <th>50%</th>\n",
              "      <td>7.190000</td>\n",
              "      <td>3.000000</td>\n",
              "      <td>14.970000</td>\n",
              "    </tr>\n",
              "    <tr>\n",
              "      <th>75%</th>\n",
              "      <td>11.190000</td>\n",
              "      <td>4.000000</td>\n",
              "      <td>28.470000</td>\n",
              "    </tr>\n",
              "    <tr>\n",
              "      <th>max</th>\n",
              "      <td>23.990000</td>\n",
              "      <td>4.000000</td>\n",
              "      <td>95.960000</td>\n",
              "    </tr>\n",
              "  </tbody>\n",
              "</table>\n",
              "</div>\n",
              "      <button class=\"colab-df-convert\" onclick=\"convertToInteractive('df-8328947c-1ea7-41d1-ad74-4d6ee30624c7')\"\n",
              "              title=\"Convert this dataframe to an interactive table.\"\n",
              "              style=\"display:none;\">\n",
              "        \n",
              "  <svg xmlns=\"http://www.w3.org/2000/svg\" height=\"24px\"viewBox=\"0 0 24 24\"\n",
              "       width=\"24px\">\n",
              "    <path d=\"M0 0h24v24H0V0z\" fill=\"none\"/>\n",
              "    <path d=\"M18.56 5.44l.94 2.06.94-2.06 2.06-.94-2.06-.94-.94-2.06-.94 2.06-2.06.94zm-11 1L8.5 8.5l.94-2.06 2.06-.94-2.06-.94L8.5 2.5l-.94 2.06-2.06.94zm10 10l.94 2.06.94-2.06 2.06-.94-2.06-.94-.94-2.06-.94 2.06-2.06.94z\"/><path d=\"M17.41 7.96l-1.37-1.37c-.4-.4-.92-.59-1.43-.59-.52 0-1.04.2-1.43.59L10.3 9.45l-7.72 7.72c-.78.78-.78 2.05 0 2.83L4 21.41c.39.39.9.59 1.41.59.51 0 1.02-.2 1.41-.59l7.78-7.78 2.81-2.81c.8-.78.8-2.07 0-2.86zM5.41 20L4 18.59l7.72-7.72 1.47 1.35L5.41 20z\"/>\n",
              "  </svg>\n",
              "      </button>\n",
              "      \n",
              "  <style>\n",
              "    .colab-df-container {\n",
              "      display:flex;\n",
              "      flex-wrap:wrap;\n",
              "      gap: 12px;\n",
              "    }\n",
              "\n",
              "    .colab-df-convert {\n",
              "      background-color: #E8F0FE;\n",
              "      border: none;\n",
              "      border-radius: 50%;\n",
              "      cursor: pointer;\n",
              "      display: none;\n",
              "      fill: #1967D2;\n",
              "      height: 32px;\n",
              "      padding: 0 0 0 0;\n",
              "      width: 32px;\n",
              "    }\n",
              "\n",
              "    .colab-df-convert:hover {\n",
              "      background-color: #E2EBFA;\n",
              "      box-shadow: 0px 1px 2px rgba(60, 64, 67, 0.3), 0px 1px 3px 1px rgba(60, 64, 67, 0.15);\n",
              "      fill: #174EA6;\n",
              "    }\n",
              "\n",
              "    [theme=dark] .colab-df-convert {\n",
              "      background-color: #3B4455;\n",
              "      fill: #D2E3FC;\n",
              "    }\n",
              "\n",
              "    [theme=dark] .colab-df-convert:hover {\n",
              "      background-color: #434B5C;\n",
              "      box-shadow: 0px 1px 3px 1px rgba(0, 0, 0, 0.15);\n",
              "      filter: drop-shadow(0px 1px 2px rgba(0, 0, 0, 0.3));\n",
              "      fill: #FFFFFF;\n",
              "    }\n",
              "  </style>\n",
              "\n",
              "      <script>\n",
              "        const buttonEl =\n",
              "          document.querySelector('#df-8328947c-1ea7-41d1-ad74-4d6ee30624c7 button.colab-df-convert');\n",
              "        buttonEl.style.display =\n",
              "          google.colab.kernel.accessAllowed ? 'block' : 'none';\n",
              "\n",
              "        async function convertToInteractive(key) {\n",
              "          const element = document.querySelector('#df-8328947c-1ea7-41d1-ad74-4d6ee30624c7');\n",
              "          const dataTable =\n",
              "            await google.colab.kernel.invokeFunction('convertToInteractive',\n",
              "                                                     [key], {});\n",
              "          if (!dataTable) return;\n",
              "\n",
              "          const docLinkHtml = 'Like what you see? Visit the ' +\n",
              "            '<a target=\"_blank\" href=https://colab.research.google.com/notebooks/data_table.ipynb>data table notebook</a>'\n",
              "            + ' to learn more about interactive tables.';\n",
              "          element.innerHTML = '';\n",
              "          dataTable['output_type'] = 'display_data';\n",
              "          await google.colab.output.renderOutput(dataTable, element);\n",
              "          const docLink = document.createElement('div');\n",
              "          docLink.innerHTML = docLinkHtml;\n",
              "          element.appendChild(docLink);\n",
              "        }\n",
              "      </script>\n",
              "    </div>\n",
              "  </div>\n",
              "  "
            ]
          },
          "metadata": {},
          "execution_count": 8
        }
      ]
    },
    {
      "cell_type": "markdown",
      "source": [
        "The `.describe()` method computes some descriptive statistics of the numerical columns, including:\n",
        "\n",
        "- count = count of how many unique values exist\n",
        "- mean = mean average value of this column\n",
        "- std = standard deviation\n",
        "- min = minimum value\n",
        "- 25% = lower quartile value\n",
        "- 50% = median value\n",
        "- 75% = upper quartile value\n",
        "- max = maximum value\n"
      ],
      "metadata": {
        "id": "N-krPtHdHNrh"
      }
    },
    {
      "cell_type": "markdown",
      "source": [
        "##Visualisation"
      ],
      "metadata": {
        "id": "xjMedg3Gerke"
      }
    },
    {
      "cell_type": "code",
      "source": [
        "pip install seaborn"
      ],
      "metadata": {
        "colab": {
          "base_uri": "https://localhost:8080/"
        },
        "id": "A3FuhyUGfIwH",
        "outputId": "c7c264f6-f40a-4fa9-945f-421b693d9e28"
      },
      "execution_count": 9,
      "outputs": [
        {
          "output_type": "stream",
          "name": "stdout",
          "text": [
            "Looking in indexes: https://pypi.org/simple, https://us-python.pkg.dev/colab-wheels/public/simple/\n",
            "Requirement already satisfied: seaborn in /usr/local/lib/python3.9/dist-packages (0.12.2)\n",
            "Requirement already satisfied: pandas>=0.25 in /usr/local/lib/python3.9/dist-packages (from seaborn) (1.4.4)\n",
            "Requirement already satisfied: numpy!=1.24.0,>=1.17 in /usr/local/lib/python3.9/dist-packages (from seaborn) (1.22.4)\n",
            "Requirement already satisfied: matplotlib!=3.6.1,>=3.1 in /usr/local/lib/python3.9/dist-packages (from seaborn) (3.7.1)\n",
            "Requirement already satisfied: packaging>=20.0 in /usr/local/lib/python3.9/dist-packages (from matplotlib!=3.6.1,>=3.1->seaborn) (23.0)\n",
            "Requirement already satisfied: cycler>=0.10 in /usr/local/lib/python3.9/dist-packages (from matplotlib!=3.6.1,>=3.1->seaborn) (0.11.0)\n",
            "Requirement already satisfied: pyparsing>=2.3.1 in /usr/local/lib/python3.9/dist-packages (from matplotlib!=3.6.1,>=3.1->seaborn) (3.0.9)\n",
            "Requirement already satisfied: fonttools>=4.22.0 in /usr/local/lib/python3.9/dist-packages (from matplotlib!=3.6.1,>=3.1->seaborn) (4.39.2)\n",
            "Requirement already satisfied: python-dateutil>=2.7 in /usr/local/lib/python3.9/dist-packages (from matplotlib!=3.6.1,>=3.1->seaborn) (2.8.2)\n",
            "Requirement already satisfied: importlib-resources>=3.2.0 in /usr/local/lib/python3.9/dist-packages (from matplotlib!=3.6.1,>=3.1->seaborn) (5.12.0)\n",
            "Requirement already satisfied: kiwisolver>=1.0.1 in /usr/local/lib/python3.9/dist-packages (from matplotlib!=3.6.1,>=3.1->seaborn) (1.4.4)\n",
            "Requirement already satisfied: pillow>=6.2.0 in /usr/local/lib/python3.9/dist-packages (from matplotlib!=3.6.1,>=3.1->seaborn) (8.4.0)\n",
            "Requirement already satisfied: contourpy>=1.0.1 in /usr/local/lib/python3.9/dist-packages (from matplotlib!=3.6.1,>=3.1->seaborn) (1.0.7)\n",
            "Requirement already satisfied: pytz>=2020.1 in /usr/local/lib/python3.9/dist-packages (from pandas>=0.25->seaborn) (2022.7.1)\n",
            "Requirement already satisfied: zipp>=3.1.0 in /usr/local/lib/python3.9/dist-packages (from importlib-resources>=3.2.0->matplotlib!=3.6.1,>=3.1->seaborn) (3.15.0)\n",
            "Requirement already satisfied: six>=1.5 in /usr/local/lib/python3.9/dist-packages (from python-dateutil>=2.7->matplotlib!=3.6.1,>=3.1->seaborn) (1.16.0)\n"
          ]
        }
      ]
    },
    {
      "cell_type": "code",
      "source": [
        "import seaborn as sns"
      ],
      "metadata": {
        "id": "tOqLxqAzfPNy"
      },
      "execution_count": 10,
      "outputs": []
    },
    {
      "cell_type": "markdown",
      "source": [
        "To analyse the dataset, below are the snippets of code that we can use as a helper functions to visualise different columns within the dataset. They include:\n",
        "\n",
        "- plot_continuous_distribution = this is to visualise the distribution of numeric columns\n",
        "- get_unique_values = this is to show how many unique values are present within a column\n",
        "- plot_categorical_distribution = this is to visualise the distribution of categorical columns"
      ],
      "metadata": {
        "id": "rNvl5rGeKv-h"
      }
    },
    {
      "cell_type": "code",
      "source": [
        "def plot_continuous_distribution(data: pd.DataFrame = None, column: str = None, height: int = 10):\n",
        "  _ = sns.displot(data, x=column, kde=True, height=height, aspect=height/5).set(title=f'Distribution of {column}');\n",
        "\n",
        "def get_unique_values(data, column):\n",
        "  num_unique_values = len(data[column].unique())\n",
        "  value_counts = data[column].value_counts()\n",
        "  print(f\"Column: {column} has {num_unique_values} unique values\\n\")\n",
        "  print(value_counts)\n",
        "\n",
        "def plot_categorical_distribution(data: pd.DataFrame = None, column: str = None, height: int = 10, aspect: int = 4):\n",
        "  _ = sns.catplot(data=data, x=column, kind='count', height=height, aspect=aspect).set(title=f'Distribution of {column}');"
      ],
      "metadata": {
        "id": "AyUPE4QRKcYQ"
      },
      "execution_count": 11,
      "outputs": []
    },
    {
      "cell_type": "code",
      "source": [
        "plot_continuous_distribution(df, 'unit_price')"
      ],
      "metadata": {
        "colab": {
          "base_uri": "https://localhost:8080/",
          "height": 736
        },
        "id": "QgjsTsscg3of",
        "outputId": "e27e7b84-36f4-45c8-fd5c-d428f0ae0123"
      },
      "execution_count": 12,
      "outputs": [
        {
          "output_type": "display_data",
          "data": {
            "text/plain": [
              "<Figure size 1440x720 with 1 Axes>"
            ],
            "image/png": "[encoded data removed]"
          },
          "metadata": {
            "needs_background": "light"
          }
        }
      ]
    },
    {
      "cell_type": "markdown",
      "source": [
        "Here, the distribution of `unit_price` is positively skewed, i.e, there are more sales of products with a low unit_price compared to products with a high unit_price.\n",
        "\n",
        "So, you would expect a grocery store to sell more products that are cheap, and just a few products that are really expensive."
      ],
      "metadata": {
        "id": "01lTNf6uLmyh"
      }
    },
    {
      "cell_type": "code",
      "source": [
        "plot_continuous_distribution(df, 'quantity')"
      ],
      "metadata": {
        "colab": {
          "base_uri": "https://localhost:8080/",
          "height": 736
        },
        "id": "kcjePeBaovkS",
        "outputId": "29cdadd0-86aa-44f9-b89a-0f86845e0a92"
      },
      "execution_count": 13,
      "outputs": [
        {
          "output_type": "display_data",
          "data": {
            "text/plain": [
              "<Figure size 1440x720 with 1 Axes>"
            ],
            "image/png": "[encoded data removed]"
          },
          "metadata": {
            "needs_background": "light"
          }
        }
      ]
    },
    {
      "cell_type": "markdown",
      "source": [
        "Here, the distribution of `quantity` is very different. We can see that only 4 unique values exist (1, 2, 3, and 4) and they are quite evenly distributed. Customers are buying in even quantities across 1 to 4 units."
      ],
      "metadata": {
        "id": "dZEk2uQUMTVf"
      }
    },
    {
      "cell_type": "code",
      "source": [
        "plot_continuous_distribution(df, 'total')"
      ],
      "metadata": {
        "colab": {
          "base_uri": "https://localhost:8080/",
          "height": 736
        },
        "id": "-rVzUhAWpgQ0",
        "outputId": "97521862-b53d-480b-e568-f70e7c1b05d1"
      },
      "execution_count": 14,
      "outputs": [
        {
          "output_type": "display_data",
          "data": {
            "text/plain": [
              "<Figure size 1440x720 with 1 Axes>"
            ],
            "image/png": "[encoded data removed]"
          },
          "metadata": {
            "needs_background": "light"
          }
        }
      ]
    },
    {
      "cell_type": "markdown",
      "source": [
        "The `total` follows a similar distribution to `unit_price`. This you may expect, as the total is calculated as `unit_price x quantity`.\n",
        "\n",
        "However, this distribution is even more positively skewed. You'd expect customers at a grocery store to generally make more transactions of low value and only occasionally make a transaction of a very high value.\n",
        "\n",
        "Now let's turn our attention to the categorical columns within the dataset. \n",
        "\n",
        "Before visualising these columns, it is worth us understanding how many unique values these columns have. If a categorical column has 1000's of unique values, it will be very difficult to visualise.\n"
      ],
      "metadata": {
        "id": "OLGs_auqrVdK"
      }
    },
    {
      "cell_type": "code",
      "source": [
        "get_unique_values(df, 'transaction_id')"
      ],
      "metadata": {
        "colab": {
          "base_uri": "https://localhost:8080/"
        },
        "id": "vpc0h_8cs1X4",
        "outputId": "13deeba8-8821-4b3b-cd73-1521c9d232e1"
      },
      "execution_count": 15,
      "outputs": [
        {
          "output_type": "stream",
          "name": "stdout",
          "text": [
            "Column: transaction_id has 7829 unique values\n",
            "\n",
            "a1c82654-c52c-45b3-8ce8-4c2a1efe63ed    1\n",
            "6532e258-95fd-4eb5-8c67-2bfb879a8fec    1\n",
            "6fce2af3-47a0-4755-99c9-0cefb5ab6f41    1\n",
            "6476e388-3990-471f-b415-3ee59ae18832    1\n",
            "10afe89b-c45b-49a2-b0be-dec89a4c3f80    1\n",
            "                                       ..\n",
            "a9abe5ac-99d5-4d8b-bbbd-c2a207642849    1\n",
            "6b0b23e8-412b-4665-8cc4-3e37f0d9e195    1\n",
            "711a4162-1985-4f5a-94ca-137cfacaeadf    1\n",
            "7d1e9010-dbaf-4770-a467-f31477910f7a    1\n",
            "afd70b4f-ee21-402d-8d8f-0d9e13c2bea6    1\n",
            "Name: transaction_id, Length: 7829, dtype: int64\n"
          ]
        }
      ]
    },
    {
      "cell_type": "markdown",
      "source": [
        "As explained previously, `transaction_id` is a unique ID column for each transaction. Since each row represents a unique transaction, this means that we have 7829 unique transaction IDs. Therefore, this column is not useful to visualise."
      ],
      "metadata": {
        "id": "wFupRXT3PHGQ"
      }
    },
    {
      "cell_type": "code",
      "source": [
        "get_unique_values(df, 'product_id')"
      ],
      "metadata": {
        "colab": {
          "base_uri": "https://localhost:8080/"
        },
        "id": "N5jYJ7rbtW_B",
        "outputId": "98a9960e-e8b1-4dfc-bce7-03eecc8be50c"
      },
      "execution_count": 16,
      "outputs": [
        {
          "output_type": "stream",
          "name": "stdout",
          "text": [
            "Column: product_id has 300 unique values\n",
            "\n",
            "ecac012c-1dec-41d4-9ebd-56fb7166f6d9    114\n",
            "80da8348-1707-403f-8be7-9e6deeccc883    109\n",
            "0ddc2379-adba-4fb0-aa97-19fcafc738a1    108\n",
            "7c55cbd4-f306-4c04-a030-628cbe7867c1    104\n",
            "3bc6c1ea-0198-46de-9ffd-514ae3338713    101\n",
            "                                       ... \n",
            "49f7d4a9-713a-4824-b378-aebb33ff8b2f      5\n",
            "a8fab83a-16d4-4db0-a83a-f824ecd8604a      5\n",
            "c8de27d0-2c44-4b5a-b178-59c45d054ccb      5\n",
            "5adfc643-aa8e-4140-b2c3-98a946444632      5\n",
            "ec0bb9b5-45e3-4de8-963d-e92aa91a201e      3\n",
            "Name: product_id, Length: 300, dtype: int64\n"
          ]
        }
      ]
    },
    {
      "cell_type": "markdown",
      "source": [
        "Similarly, `product_id` is an unique id column based on the product that was sold within the transaction. Here we have 300 unique product IDs, hence 300 unique products within the dataset. This is not worth visualising, but it certainly interesting to know. From the output of the helper function, we can see that the product most frequently was sold within this dataset was `ecac012c-1dec-41d4-9ebd-56fb7166f6d9`, sold 114 times during the week. Whereas the product least sold was `ec0bb9b5-45e3-4de8-963d-e92aa91a201e` sold just 3 times\n"
      ],
      "metadata": {
        "id": "dylPseJ4Pb4q"
      }
    },
    {
      "cell_type": "code",
      "source": [
        "get_unique_values(df, 'category')"
      ],
      "metadata": {
        "colab": {
          "base_uri": "https://localhost:8080/"
        },
        "id": "-SdX5K9Euv-A",
        "outputId": "acda7778-9ea4-4420-9ede-0e8a733258a2"
      },
      "execution_count": 17,
      "outputs": [
        {
          "output_type": "stream",
          "name": "stdout",
          "text": [
            "Column: category has 22 unique values\n",
            "\n",
            "fruit                    998\n",
            "vegetables               846\n",
            "packaged foods           507\n",
            "baked goods              443\n",
            "canned foods             431\n",
            "refrigerated items       425\n",
            "kitchen                  382\n",
            "meat                     382\n",
            "dairy                    375\n",
            "beverages                301\n",
            "cheese                   293\n",
            "cleaning products        292\n",
            "baking                   264\n",
            "snacks                   263\n",
            "frozen                   263\n",
            "seafood                  253\n",
            "medicine                 243\n",
            "baby products            224\n",
            "condiments and sauces    181\n",
            "personal care            177\n",
            "pets                     161\n",
            "spices and herbs         125\n",
            "Name: category, dtype: int64\n"
          ]
        }
      ]
    },
    {
      "cell_type": "markdown",
      "source": [
        "There are 22 unique values for `category`, with `fruit` and `vegetables` being the 2 most frequently purchased product categories and `spices and herbs` being the least. Let's visualise this too"
      ],
      "metadata": {
        "id": "vvjjhm3oP_jS"
      }
    },
    {
      "cell_type": "code",
      "source": [
        "plot_categorical_distribution(df,'category')"
      ],
      "metadata": {
        "colab": {
          "base_uri": "https://localhost:8080/",
          "height": 375
        },
        "id": "ek1lWaUUvU15",
        "outputId": "be9da43d-227e-4793-f840-1f7771c2f515"
      },
      "execution_count": 18,
      "outputs": [
        {
          "output_type": "display_data",
          "data": {
            "text/plain": [
              "<Figure size 2880x720 with 1 Axes>"
            ],
            "image/png": "[encoded data removed]"
          },
          "metadata": {
            "needs_background": "light"
          }
        }
      ]
    },
    {
      "cell_type": "code",
      "source": [
        "get_unique_values(df,'customer_type')"
      ],
      "metadata": {
        "colab": {
          "base_uri": "https://localhost:8080/"
        },
        "id": "3H2_yECYv4Ff",
        "outputId": "9c0194f3-ec52-4d96-c449-b8f4b06c24f2"
      },
      "execution_count": 19,
      "outputs": [
        {
          "output_type": "stream",
          "name": "stdout",
          "text": [
            "Column: customer_type has 5 unique values\n",
            "\n",
            "non-member    1601\n",
            "standard      1595\n",
            "premium       1590\n",
            "basic         1526\n",
            "gold          1517\n",
            "Name: customer_type, dtype: int64\n"
          ]
        }
      ]
    },
    {
      "cell_type": "markdown",
      "source": [
        "There are 5 unique values for `customer_type`, and they seem to be evenly distributed. Let's visualise this:"
      ],
      "metadata": {
        "id": "oFR2oP21fCUC"
      }
    },
    {
      "cell_type": "code",
      "source": [
        "plot_categorical_distribution(df,'customer_type', height=5, aspect=2)"
      ],
      "metadata": {
        "colab": {
          "base_uri": "https://localhost:8080/",
          "height": 385
        },
        "id": "dkEuEsbVwKTp",
        "outputId": "05b6c1ac-3705-49e0-8aad-d6925ab0d0bd"
      },
      "execution_count": 20,
      "outputs": [
        {
          "output_type": "display_data",
          "data": {
            "text/plain": [
              "<Figure size 720x360 with 1 Axes>"
            ],
            "image/png": "[encoded data removed]"
          },
          "metadata": {
            "needs_background": "light"
          }
        }
      ]
    },
    {
      "cell_type": "markdown",
      "source": [
        "From this sample of data, non-members appear to be the most frequent type of customers, closely followed by standard and premium customers"
      ],
      "metadata": {
        "id": "DZBTfOj4fwV8"
      }
    },
    {
      "cell_type": "code",
      "source": [
        "get_unique_values(df, 'payment_type')"
      ],
      "metadata": {
        "colab": {
          "base_uri": "https://localhost:8080/"
        },
        "id": "mNRqM-Tiww0N",
        "outputId": "0b24af83-fade-4aed-dc2b-53b80e2ff22e"
      },
      "execution_count": 21,
      "outputs": [
        {
          "output_type": "stream",
          "name": "stdout",
          "text": [
            "Column: payment_type has 4 unique values\n",
            "\n",
            "cash           2027\n",
            "credit card    1949\n",
            "e-wallet       1935\n",
            "debit card     1918\n",
            "Name: payment_type, dtype: int64\n"
          ]
        }
      ]
    },
    {
      "cell_type": "markdown",
      "source": [
        "There are 4 unique values for `payment_type`, and they seem to be quite evenly distributed once again. Let's visualise this:"
      ],
      "metadata": {
        "id": "npDIrQNdfb80"
      }
    },
    {
      "cell_type": "code",
      "source": [
        "plot_categorical_distribution(df,'payment_type',height=5,aspect=2)"
      ],
      "metadata": {
        "colab": {
          "base_uri": "https://localhost:8080/",
          "height": 385
        },
        "id": "81DyoG-0w9MI",
        "outputId": "edfa3f29-f09b-4e37-9274-a2d65124868a"
      },
      "execution_count": 22,
      "outputs": [
        {
          "output_type": "display_data",
          "data": {
            "text/plain": [
              "<Figure size 720x360 with 1 Axes>"
            ],
            "image/png": "[encoded data removed]"
          },
          "metadata": {
            "needs_background": "light"
          }
        }
      ]
    },
    {
      "cell_type": "markdown",
      "source": [
        "Interestingly, cash seems to be the most frequently used method of payment from this sample of data, with debit cards being the least frequent. \n",
        "\n",
        "\n",
        "This dataset is a sample from 1 store across 1 week. So it will be interesting to see if the population sample follows similar patterns."
      ],
      "metadata": {
        "id": "0_fsQ3D0xO9P"
      }
    },
    {
      "cell_type": "code",
      "source": [
        "get_unique_values(df,'timestamp')"
      ],
      "metadata": {
        "colab": {
          "base_uri": "https://localhost:8080/"
        },
        "id": "PqCnO5i2xUT3",
        "outputId": "9c7b25e6-bcf8-431c-ad3c-7984de4335b5"
      },
      "execution_count": 23,
      "outputs": [
        {
          "output_type": "stream",
          "name": "stdout",
          "text": [
            "Column: timestamp has 7738 unique values\n",
            "\n",
            "2022-03-02 19:32:20    2\n",
            "2022-03-05 10:11:33    2\n",
            "2022-03-01 18:12:17    2\n",
            "2022-03-03 13:28:14    2\n",
            "2022-03-07 17:13:29    2\n",
            "                      ..\n",
            "2022-03-01 10:00:58    1\n",
            "2022-03-02 11:05:58    1\n",
            "2022-03-04 17:48:49    1\n",
            "2022-03-04 14:53:27    1\n",
            "2022-03-06 13:50:36    1\n",
            "Name: timestamp, Length: 7738, dtype: int64\n"
          ]
        }
      ]
    },
    {
      "cell_type": "markdown",
      "source": [
        "Clearly there are a lot of unique values for the timestamp column. \n",
        "\n",
        "However, you may have noticed something...\n",
        "\n",
        "The column named `timestamp` appears to be categorical, but in actual fact it's not. This is a datetime, following the format of `2022-03-01 10:00:45 = YYYY-MM-DD HH:MM:SS`. Therefore, we must transform this column to reflect its true form.\n",
        "\n",
        "A helper function is provided below to convert the column into a datetime column."
      ],
      "metadata": {
        "id": "F8PgvrZLyydE"
      }
    },
    {
      "cell_type": "code",
      "source": [
        "def convert_to_datetime(data: pd.DataFrame = None, column: str = None):\n",
        "\n",
        "  dummy = data.copy()\n",
        "  dummy[column] = pd.to_datetime(dummy[column], format='%Y-%m-%d %H:%M:%S')\n",
        "  return dummy"
      ],
      "metadata": {
        "id": "OjNsJZXfxkK0"
      },
      "execution_count": 24,
      "outputs": []
    },
    {
      "cell_type": "code",
      "source": [
        "df = convert_to_datetime(df,'timestamp')"
      ],
      "metadata": {
        "id": "pLFcj4CDb8k0"
      },
      "execution_count": 25,
      "outputs": []
    },
    {
      "cell_type": "code",
      "source": [
        "df.info()"
      ],
      "metadata": {
        "colab": {
          "base_uri": "https://localhost:8080/"
        },
        "id": "4XBjtr_QcLVc",
        "outputId": "313bfb39-e049-4a87-d694-b40db9bf6ee4"
      },
      "execution_count": 26,
      "outputs": [
        {
          "output_type": "stream",
          "name": "stdout",
          "text": [
            "<class 'pandas.core.frame.DataFrame'>\n",
            "RangeIndex: 7829 entries, 0 to 7828\n",
            "Data columns (total 9 columns):\n",
            " #   Column          Non-Null Count  Dtype         \n",
            "---  ------          --------------  -----         \n",
            " 0   transaction_id  7829 non-null   object        \n",
            " 1   timestamp       7829 non-null   datetime64[ns]\n",
            " 2   product_id      7829 non-null   object        \n",
            " 3   category        7829 non-null   object        \n",
            " 4   customer_type   7829 non-null   object        \n",
            " 5   unit_price      7829 non-null   float64       \n",
            " 6   quantity        7829 non-null   int64         \n",
            " 7   total           7829 non-null   float64       \n",
            " 8   payment_type    7829 non-null   object        \n",
            "dtypes: datetime64[ns](1), float64(2), int64(1), object(5)\n",
            "memory usage: 550.6+ KB\n"
          ]
        }
      ]
    },
    {
      "cell_type": "markdown",
      "source": [
        "Using the `.info()` method again, we can see that the timestamp is now of type `datetime64[ns]`, which indicates it is a datetime based data type. Now this is a datetime column, we can explore this column into its consitituent parts, e.g. we can explore datetime into `hour` for example."
      ],
      "metadata": {
        "id": "L8G7sAyYz9qj"
      }
    },
    {
      "cell_type": "code",
      "source": [
        "df['hour']=df['timestamp'].dt.hour"
      ],
      "metadata": {
        "id": "FEYeJfsmc0iT"
      },
      "execution_count": 28,
      "outputs": []
    },
    {
      "cell_type": "code",
      "source": [
        "df.head()"
      ],
      "metadata": {
        "colab": {
          "base_uri": "https://localhost:8080/",
          "height": 206
        },
        "id": "Oo2y4UqadS1q",
        "outputId": "ea3ee5d0-cf03-4d17-ac3a-e4c3dcaffc13"
      },
      "execution_count": 29,
      "outputs": [
        {
          "output_type": "execute_result",
          "data": {
            "text/plain": [
              "                         transaction_id           timestamp  \\\n",
              "0  a1c82654-c52c-45b3-8ce8-4c2a1efe63ed 2022-03-02 09:51:38   \n",
              "1  931ad550-09e8-4da6-beaa-8c9d17be9c60 2022-03-06 10:33:59   \n",
              "2  ae133534-6f61-4cd6-b6b8-d1c1d8d90aea 2022-03-04 17:20:21   \n",
              "3  157cebd9-aaf0-475d-8a11-7c8e0f5b76e4 2022-03-02 17:23:58   \n",
              "4  a81a6cd3-5e0c-44a2-826c-aea43e46c514 2022-03-05 14:32:43   \n",
              "\n",
              "                             product_id category customer_type  unit_price  \\\n",
              "0  3bc6c1ea-0198-46de-9ffd-514ae3338713    fruit          gold        3.99   \n",
              "1  ad81b46c-bf38-41cf-9b54-5fe7f5eba93e    fruit      standard        3.99   \n",
              "2  7c55cbd4-f306-4c04-a030-628cbe7867c1    fruit       premium        0.19   \n",
              "3  80da8348-1707-403f-8be7-9e6deeccc883    fruit          gold        0.19   \n",
              "4  7f5e86e6-f06f-45f6-bf44-27b095c9ad1d    fruit         basic        4.49   \n",
              "\n",
              "   quantity  total payment_type  hour  \n",
              "0         2   7.98     e-wallet     9  \n",
              "1         1   3.99     e-wallet    10  \n",
              "2         2   0.38     e-wallet    17  \n",
              "3         4   0.76     e-wallet    17  \n",
              "4         2   8.98   debit card    14  "
            ],
            "text/html": [
              "\n",
              "  <div id=\"df-618dd896-6230-4cbf-b660-3aeaedea53b9\">\n",
              "    <div class=\"colab-df-container\">\n",
              "      <div>\n",
              "<style scoped>\n",
              "    .dataframe tbody tr th:only-of-type {\n",
              "        vertical-align: middle;\n",
              "    }\n",
              "\n",
              "    .dataframe tbody tr th {\n",
              "        vertical-align: top;\n",
              "    }\n",
              "\n",
              "    .dataframe thead th {\n",
              "        text-align: right;\n",
              "    }\n",
              "</style>\n",
              "<table border=\"1\" class=\"dataframe\">\n",
              "  <thead>\n",
              "    <tr style=\"text-align: right;\">\n",
              "      <th></th>\n",
              "      <th>transaction_id</th>\n",
              "      <th>timestamp</th>\n",
              "      <th>product_id</th>\n",
              "      <th>category</th>\n",
              "      <th>customer_type</th>\n",
              "      <th>unit_price</th>\n",
              "      <th>quantity</th>\n",
              "      <th>total</th>\n",
              "      <th>payment_type</th>\n",
              "      <th>hour</th>\n",
              "    </tr>\n",
              "  </thead>\n",
              "  <tbody>\n",
              "    <tr>\n",
              "      <th>0</th>\n",
              "      <td>a1c82654-c52c-45b3-8ce8-4c2a1efe63ed</td>\n",
              "      <td>2022-03-02 09:51:38</td>\n",
              "      <td>3bc6c1ea-0198-46de-9ffd-514ae3338713</td>\n",
              "      <td>fruit</td>\n",
              "      <td>gold</td>\n",
              "      <td>3.99</td>\n",
              "      <td>2</td>\n",
              "      <td>7.98</td>\n",
              "      <td>e-wallet</td>\n",
              "      <td>9</td>\n",
              "    </tr>\n",
              "    <tr>\n",
              "      <th>1</th>\n",
              "      <td>931ad550-09e8-4da6-beaa-8c9d17be9c60</td>\n",
              "      <td>2022-03-06 10:33:59</td>\n",
              "      <td>ad81b46c-bf38-41cf-9b54-5fe7f5eba93e</td>\n",
              "      <td>fruit</td>\n",
              "      <td>standard</td>\n",
              "      <td>3.99</td>\n",
              "      <td>1</td>\n",
              "      <td>3.99</td>\n",
              "      <td>e-wallet</td>\n",
              "      <td>10</td>\n",
              "    </tr>\n",
              "    <tr>\n",
              "      <th>2</th>\n",
              "      <td>ae133534-6f61-4cd6-b6b8-d1c1d8d90aea</td>\n",
              "      <td>2022-03-04 17:20:21</td>\n",
              "      <td>7c55cbd4-f306-4c04-a030-628cbe7867c1</td>\n",
              "      <td>fruit</td>\n",
              "      <td>premium</td>\n",
              "      <td>0.19</td>\n",
              "      <td>2</td>\n",
              "      <td>0.38</td>\n",
              "      <td>e-wallet</td>\n",
              "      <td>17</td>\n",
              "    </tr>\n",
              "    <tr>\n",
              "      <th>3</th>\n",
              "      <td>157cebd9-aaf0-475d-8a11-7c8e0f5b76e4</td>\n",
              "      <td>2022-03-02 17:23:58</td>\n",
              "      <td>80da8348-1707-403f-8be7-9e6deeccc883</td>\n",
              "      <td>fruit</td>\n",
              "      <td>gold</td>\n",
              "      <td>0.19</td>\n",
              "      <td>4</td>\n",
              "      <td>0.76</td>\n",
              "      <td>e-wallet</td>\n",
              "      <td>17</td>\n",
              "    </tr>\n",
              "    <tr>\n",
              "      <th>4</th>\n",
              "      <td>a81a6cd3-5e0c-44a2-826c-aea43e46c514</td>\n",
              "      <td>2022-03-05 14:32:43</td>\n",
              "      <td>7f5e86e6-f06f-45f6-bf44-27b095c9ad1d</td>\n",
              "      <td>fruit</td>\n",
              "      <td>basic</td>\n",
              "      <td>4.49</td>\n",
              "      <td>2</td>\n",
              "      <td>8.98</td>\n",
              "      <td>debit card</td>\n",
              "      <td>14</td>\n",
              "    </tr>\n",
              "  </tbody>\n",
              "</table>\n",
              "</div>\n",
              "      <button class=\"colab-df-convert\" onclick=\"convertToInteractive('df-618dd896-6230-4cbf-b660-3aeaedea53b9')\"\n",
              "              title=\"Convert this dataframe to an interactive table.\"\n",
              "              style=\"display:none;\">\n",
              "        \n",
              "  <svg xmlns=\"http://www.w3.org/2000/svg\" height=\"24px\"viewBox=\"0 0 24 24\"\n",
              "       width=\"24px\">\n",
              "    <path d=\"M0 0h24v24H0V0z\" fill=\"none\"/>\n",
              "    <path d=\"M18.56 5.44l.94 2.06.94-2.06 2.06-.94-2.06-.94-.94-2.06-.94 2.06-2.06.94zm-11 1L8.5 8.5l.94-2.06 2.06-.94-2.06-.94L8.5 2.5l-.94 2.06-2.06.94zm10 10l.94 2.06.94-2.06 2.06-.94-2.06-.94-.94-2.06-.94 2.06-2.06.94z\"/><path d=\"M17.41 7.96l-1.37-1.37c-.4-.4-.92-.59-1.43-.59-.52 0-1.04.2-1.43.59L10.3 9.45l-7.72 7.72c-.78.78-.78 2.05 0 2.83L4 21.41c.39.39.9.59 1.41.59.51 0 1.02-.2 1.41-.59l7.78-7.78 2.81-2.81c.8-.78.8-2.07 0-2.86zM5.41 20L4 18.59l7.72-7.72 1.47 1.35L5.41 20z\"/>\n",
              "  </svg>\n",
              "      </button>\n",
              "      \n",
              "  <style>\n",
              "    .colab-df-container {\n",
              "      display:flex;\n",
              "      flex-wrap:wrap;\n",
              "      gap: 12px;\n",
              "    }\n",
              "\n",
              "    .colab-df-convert {\n",
              "      background-color: #E8F0FE;\n",
              "      border: none;\n",
              "      border-radius: 50%;\n",
              "      cursor: pointer;\n",
              "      display: none;\n",
              "      fill: #1967D2;\n",
              "      height: 32px;\n",
              "      padding: 0 0 0 0;\n",
              "      width: 32px;\n",
              "    }\n",
              "\n",
              "    .colab-df-convert:hover {\n",
              "      background-color: #E2EBFA;\n",
              "      box-shadow: 0px 1px 2px rgba(60, 64, 67, 0.3), 0px 1px 3px 1px rgba(60, 64, 67, 0.15);\n",
              "      fill: #174EA6;\n",
              "    }\n",
              "\n",
              "    [theme=dark] .colab-df-convert {\n",
              "      background-color: #3B4455;\n",
              "      fill: #D2E3FC;\n",
              "    }\n",
              "\n",
              "    [theme=dark] .colab-df-convert:hover {\n",
              "      background-color: #434B5C;\n",
              "      box-shadow: 0px 1px 3px 1px rgba(0, 0, 0, 0.15);\n",
              "      filter: drop-shadow(0px 1px 2px rgba(0, 0, 0, 0.3));\n",
              "      fill: #FFFFFF;\n",
              "    }\n",
              "  </style>\n",
              "\n",
              "      <script>\n",
              "        const buttonEl =\n",
              "          document.querySelector('#df-618dd896-6230-4cbf-b660-3aeaedea53b9 button.colab-df-convert');\n",
              "        buttonEl.style.display =\n",
              "          google.colab.kernel.accessAllowed ? 'block' : 'none';\n",
              "\n",
              "        async function convertToInteractive(key) {\n",
              "          const element = document.querySelector('#df-618dd896-6230-4cbf-b660-3aeaedea53b9');\n",
              "          const dataTable =\n",
              "            await google.colab.kernel.invokeFunction('convertToInteractive',\n",
              "                                                     [key], {});\n",
              "          if (!dataTable) return;\n",
              "\n",
              "          const docLinkHtml = 'Like what you see? Visit the ' +\n",
              "            '<a target=\"_blank\" href=https://colab.research.google.com/notebooks/data_table.ipynb>data table notebook</a>'\n",
              "            + ' to learn more about interactive tables.';\n",
              "          element.innerHTML = '';\n",
              "          dataTable['output_type'] = 'display_data';\n",
              "          await google.colab.output.renderOutput(dataTable, element);\n",
              "          const docLink = document.createElement('div');\n",
              "          docLink.innerHTML = docLinkHtml;\n",
              "          element.appendChild(docLink);\n",
              "        }\n",
              "      </script>\n",
              "    </div>\n",
              "  </div>\n",
              "  "
            ]
          },
          "metadata": {},
          "execution_count": 29
        }
      ]
    },
    {
      "cell_type": "code",
      "source": [
        "get_unique_values(df,'hour')"
      ],
      "metadata": {
        "colab": {
          "base_uri": "https://localhost:8080/"
        },
        "id": "6wrqpjimdZwj",
        "outputId": "d5758eb6-8a79-44ca-f7c7-42f8d6ac081f"
      },
      "execution_count": 30,
      "outputs": [
        {
          "output_type": "stream",
          "name": "stdout",
          "text": [
            "Column: hour has 11 unique values\n",
            "\n",
            "11    738\n",
            "16    730\n",
            "18    727\n",
            "10    723\n",
            "12    721\n",
            "9     718\n",
            "19    709\n",
            "14    702\n",
            "17    699\n",
            "13    693\n",
            "15    669\n",
            "Name: hour, dtype: int64\n"
          ]
        }
      ]
    },
    {
      "cell_type": "markdown",
      "source": [
        "Here we can see that the 11th, 16th and 18th hour of the day are the top 3 hours of the day for transactions being processed. This is interesting, this would suggest that their busiest times of day may be just before lunch, and as people are on the way home from work. Once again, this is a small sample of data, so we can't make assumptions on the population sample of data, but it gives us insights to go back to the business with."
      ],
      "metadata": {
        "id": "0iE84kQX0yut"
      }
    },
    {
      "cell_type": "markdown",
      "source": [
        "##Correlations"
      ],
      "metadata": {
        "id": "MgOUpqB2eDEH"
      }
    },
    {
      "cell_type": "markdown",
      "source": [
        "\n",
        "By now, we have a good understanding of all the columns within the dataset, as well as the values that occur within each column. One more thing that we can do is to look at how each of the numerical columns are related to each other.\n",
        "\n",
        "To do this, we can use `correlations`. Correlations measure how each numeric column is linearly related to each other. It is measured between -1 and 1. If a correlation between 2 columns is close to -1, it shows that there is a negative correlation, i.e, as 1 increases, the other decreases. If a correlation between 2 columns is close to 1, it shows that they are positively correlated, i.e, as 1 increases, so does the other. Therefore, correlations do not infer that one column causes the other, but it gives us an indication as how the columns are linearly related."
      ],
      "metadata": {
        "id": "DhUPnd-b1amN"
      }
    },
    {
      "cell_type": "code",
      "source": [
        "corr=df.corr()\n",
        "print(corr)\n",
        "corr.style.background_gradient(cmap='coolwarm')"
      ],
      "metadata": {
        "colab": {
          "base_uri": "https://localhost:8080/",
          "height": 261
        },
        "id": "A4ezd1ccewMQ",
        "outputId": "08a64207-1948-472b-902c-1ef8f7e22c28"
      },
      "execution_count": 33,
      "outputs": [
        {
          "output_type": "stream",
          "name": "stdout",
          "text": [
            "            unit_price  quantity     total      hour\n",
            "unit_price    1.000000  0.024588  0.792018  0.010842\n",
            "quantity      0.024588  1.000000  0.521926 -0.008410\n",
            "total         0.792018  0.521926  1.000000  0.010354\n",
            "hour          0.010842 -0.008410  0.010354  1.000000\n"
          ]
        },
        {
          "output_type": "execute_result",
          "data": {
            "text/plain": [
              "<pandas.io.formats.style.Styler at 0x7fa6b6cca730>"
            ],
            "text/html": [
              "<style type=\"text/css\">\n",
              "#T_eb757_row0_col0, #T_eb757_row1_col1, #T_eb757_row2_col2, #T_eb757_row3_col3 {\n",
              "  background-color: #b40426;\n",
              "  color: #f1f1f1;\n",
              "}\n",
              "#T_eb757_row0_col1 {\n",
              "  background-color: #445acc;\n",
              "  color: #f1f1f1;\n",
              "}\n",
              "#T_eb757_row0_col2, #T_eb757_row2_col0 {\n",
              "  background-color: #ef886b;\n",
              "  color: #f1f1f1;\n",
              "}\n",
              "#T_eb757_row0_col3, #T_eb757_row2_col3 {\n",
              "  background-color: #3f53c6;\n",
              "  color: #f1f1f1;\n",
              "}\n",
              "#T_eb757_row1_col0 {\n",
              "  background-color: #3e51c5;\n",
              "  color: #f1f1f1;\n",
              "}\n",
              "#T_eb757_row1_col2 {\n",
              "  background-color: #e1dad6;\n",
              "  color: #000000;\n",
              "}\n",
              "#T_eb757_row1_col3, #T_eb757_row3_col0, #T_eb757_row3_col1, #T_eb757_row3_col2 {\n",
              "  background-color: #3b4cc0;\n",
              "  color: #f1f1f1;\n",
              "}\n",
              "#T_eb757_row2_col1 {\n",
              "  background-color: #e3d9d3;\n",
              "  color: #000000;\n",
              "}\n",
              "</style>\n",
              "<table id=\"T_eb757\" class=\"dataframe\">\n",
              "  <thead>\n",
              "    <tr>\n",
              "      <th class=\"blank level0\" >&nbsp;</th>\n",
              "      <th id=\"T_eb757_level0_col0\" class=\"col_heading level0 col0\" >unit_price</th>\n",
              "      <th id=\"T_eb757_level0_col1\" class=\"col_heading level0 col1\" >quantity</th>\n",
              "      <th id=\"T_eb757_level0_col2\" class=\"col_heading level0 col2\" >total</th>\n",
              "      <th id=\"T_eb757_level0_col3\" class=\"col_heading level0 col3\" >hour</th>\n",
              "    </tr>\n",
              "  </thead>\n",
              "  <tbody>\n",
              "    <tr>\n",
              "      <th id=\"T_eb757_level0_row0\" class=\"row_heading level0 row0\" >unit_price</th>\n",
              "      <td id=\"T_eb757_row0_col0\" class=\"data row0 col0\" >1.000000</td>\n",
              "      <td id=\"T_eb757_row0_col1\" class=\"data row0 col1\" >0.024588</td>\n",
              "      <td id=\"T_eb757_row0_col2\" class=\"data row0 col2\" >0.792018</td>\n",
              "      <td id=\"T_eb757_row0_col3\" class=\"data row0 col3\" >0.010842</td>\n",
              "    </tr>\n",
              "    <tr>\n",
              "      <th id=\"T_eb757_level0_row1\" class=\"row_heading level0 row1\" >quantity</th>\n",
              "      <td id=\"T_eb757_row1_col0\" class=\"data row1 col0\" >0.024588</td>\n",
              "      <td id=\"T_eb757_row1_col1\" class=\"data row1 col1\" >1.000000</td>\n",
              "      <td id=\"T_eb757_row1_col2\" class=\"data row1 col2\" >0.521926</td>\n",
              "      <td id=\"T_eb757_row1_col3\" class=\"data row1 col3\" >-0.008410</td>\n",
              "    </tr>\n",
              "    <tr>\n",
              "      <th id=\"T_eb757_level0_row2\" class=\"row_heading level0 row2\" >total</th>\n",
              "      <td id=\"T_eb757_row2_col0\" class=\"data row2 col0\" >0.792018</td>\n",
              "      <td id=\"T_eb757_row2_col1\" class=\"data row2 col1\" >0.521926</td>\n",
              "      <td id=\"T_eb757_row2_col2\" class=\"data row2 col2\" >1.000000</td>\n",
              "      <td id=\"T_eb757_row2_col3\" class=\"data row2 col3\" >0.010354</td>\n",
              "    </tr>\n",
              "    <tr>\n",
              "      <th id=\"T_eb757_level0_row3\" class=\"row_heading level0 row3\" >hour</th>\n",
              "      <td id=\"T_eb757_row3_col0\" class=\"data row3 col0\" >0.010842</td>\n",
              "      <td id=\"T_eb757_row3_col1\" class=\"data row3 col1\" >-0.008410</td>\n",
              "      <td id=\"T_eb757_row3_col2\" class=\"data row3 col2\" >0.010354</td>\n",
              "      <td id=\"T_eb757_row3_col3\" class=\"data row3 col3\" >1.000000</td>\n",
              "    </tr>\n",
              "  </tbody>\n",
              "</table>\n"
            ]
          },
          "metadata": {},
          "execution_count": 33
        }
      ]
    },
    {
      "cell_type": "markdown",
      "source": [
        "From this correlation matrix, we can see that the only columns that have a high correlation are `unit_price` and `total`. This is understandable because total is calculated using unit_price. All the other correlations are close to 0, indicating that there is not a significant positive or negative correlation between the numeric variables."
      ],
      "metadata": {
        "id": "oBin5kdG4iS0"
      }
    },
    {
      "cell_type": "markdown",
      "source": [
        "##Summary"
      ],
      "metadata": {
        "id": "Nd8BUqJRgTf4"
      }
    },
    {
      "cell_type": "markdown",
      "source": [
        "We have completed an initial exploratory data analysis on the sample data provided. We should now have a solid understanding of the data. \n",
        "The client wants to know\n",
        "\n",
        "```\n",
        "\"How to better stock the items that they sell\"\n",
        "```\n",
        "\n",
        "From this dataset, it is impossible to answer that question. In order to make the next step on this project with the client, it is clear that:\n",
        "\n",
        "- We need more rows of data. The current sample is only from 1 store and 1 week worth of data\n",
        "- We need to frame the specific problem statement that we want to solve. The current business problem is too broad, we should narrow down the focus in order to deliver a valuable end product\n",
        "- We need more features. Based on the problem statement that we move forward with, we need more columns (features) that may help us to understand the outcome that we're solving for"
      ],
      "metadata": {
        "id": "SHwZaQdRgaww"
      }
    }
  ]
}